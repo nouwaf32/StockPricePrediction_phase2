{
  "nbformat": 4,
  "nbformat_minor": 0,
  "metadata": {
    "colab": {
      "provenance": []
    },
    "kernelspec": {
      "name": "python3",
      "display_name": "Python 3"
    },
    "language_info": {
      "name": "python"
    }
  },
  "cells": [
    {
      "cell_type": "markdown",
      "source": [
        "# **DOCUMENTATION**\n",
        "\n"
      ],
      "metadata": {
        "id": "zUFwRc9PXRMp"
      }
    },
    {
      "cell_type": "markdown",
      "source": [
        "# **STOCK PRICE PREDICTION**"
      ],
      "metadata": {
        "id": "ZOsG_66UXocD"
      }
    },
    {
      "cell_type": "markdown",
      "source": [
        "## **PROBLEM STATEMENT**"
      ],
      "metadata": {
        "id": "j-iSltSEXw5A"
      }
    },
    {
      "cell_type": "markdown",
      "source": [
        "The goal of this project is to develop a model that can predict stock prices based on historical data and technical indicators. This prediction can be valuable for traders and investors looking to make informed decisions about buying or selling stocks."
      ],
      "metadata": {
        "id": "vdC4nrcZX4KT"
      }
    },
    {
      "cell_type": "markdown",
      "source": [
        "## **DESIGN THINKING PROCESS**"
      ],
      "metadata": {
        "id": "fKRvJmJdX-5J"
      }
    },
    {
      "cell_type": "markdown",
      "source": [
        "**Project Inception:**\n",
        "\n",
        "* Identified the need for a reliable stock price prediction model.\n",
        "* Defined the scope and objectives of the project.\n",
        "\n",
        "**Data Collection and Exploration:**\n",
        "\n",
        "* Obtained historical stock price data for Microsoft (MSFT) from a reliable source.\n",
        "* Explored the dataset to understand its structure, features, and potential challenges.\n",
        "\n",
        "**Feature Engineering:**\n",
        "\n",
        "* Created technical indicators like Moving Averages, RSI, and MACD to provide additional context for the model.\n",
        "\n",
        "**Model Selection and Architecture:**\n",
        "\n",
        "* Chose a combination of Convolutional Neural Network (CNN) and Long Short-Term Memory (LSTM) layers for the model architecture.\n",
        "\n",
        "**Data Preprocessing and Scaling:**\n",
        "\n",
        "* Preprocessed the data by filling missing values and applying Min-Max scaling to normalize the features.\n",
        "\n",
        "**Model Training and Evaluation:**\n",
        "\n",
        "* Split the data into training and testing sets.\n",
        "* Trained the CNN-LSTM model on the training data.\n",
        "* Evaluated the model's performance using Mean Absolute Error (MAE) and Root Mean Squared Error (RMSE).\n",
        "\n",
        "**Model Interpretation:**\n",
        "\n",
        "* Interpreted the model's predictions to gain insights into its behavior and performance.\n",
        "\n",
        "**Visualization and Reporting:**\n",
        "\n",
        "* Visualized the predicted vs. actual stock prices to assess the model's accuracy.\n",
        "Generated reports to communicate the findings."
      ],
      "metadata": {
        "id": "BLchg5rWYTCD"
      }
    },
    {
      "cell_type": "markdown",
      "source": [
        "## **DATASET SOURCE**"
      ],
      "metadata": {
        "id": "wUukCBsNiQCA"
      }
    },
    {
      "cell_type": "markdown",
      "source": [
        "**Dataset used:**\n",
        "\n",
        "MICROSOFT LIFETIME STOCKS DATASET\n",
        "\n",
        "**Dataset Source:**\n",
        "\n",
        "[kaggle.com](https://)\n",
        "\n",
        "**Dataset Link:**\n",
        "\n",
        "https://www.kaggle.com/datasets/prasoonkottarathil/microsoft-lifetime-stocks-dataset\n",
        "\n"
      ],
      "metadata": {
        "id": "mkwWfezciWcq"
      }
    },
    {
      "cell_type": "markdown",
      "source": [
        "## **PHASES OF DEVELOPMENT**"
      ],
      "metadata": {
        "id": "gmdHlSAcZGYF"
      }
    },
    {
      "cell_type": "markdown",
      "source": [
        "**Data Collection and Preprocessing:**\n",
        "\n",
        "* Imported necessary libraries for data manipulation and visualization.\n",
        "* Loaded and processed historical stock price data for Microsoft (MSFT).\n",
        "* Applied feature engineering to create technical indicators.\n",
        "\n",
        "**Model Development:**\n",
        "\n",
        "* Designed a CNN-LSTM architecture for stock price prediction.\n",
        "* Compiled and trained the model using the processed data.\n",
        "\n",
        "**Model Evaluation:**\n",
        "\n",
        "* Calculated Mean Absolute Error (MAE) and Root Mean Squared Error (RMSE) to assess model performance.\n",
        "\n",
        "**Results and Visualization:**\n",
        "\n",
        "* Plotted the true vs. predicted stock prices for visual inspection.\n",
        "* Generated performance metrics for documentation."
      ],
      "metadata": {
        "id": "VPQJ5TnOZKId"
      }
    },
    {
      "cell_type": "markdown",
      "source": [
        "## **DATA PREPROCESSING STEPS**"
      ],
      "metadata": {
        "id": "hqM7miJVZ3Qk"
      }
    },
    {
      "cell_type": "markdown",
      "source": [
        "**Loading Data:**\n",
        "\n",
        "* Imported necessary libraries including pandas, numpy, and matplotlib.\n",
        "* Loaded historical stock price data from a CSV file.\n",
        "\n",
        "**Date Formatting:**\n",
        "\n",
        "* Converted the 'Date' column to datetime format and set it as the index.\n",
        "\n",
        "**Handling Missing Values:**\n",
        "\n",
        "* Filled missing values using forward fill method.\n",
        "\n",
        "**Feature Engineering:**\n",
        "\n",
        "* Created technical indicators such as Moving Averages (MA), Relative Strength Index (RSI), and Moving Average Convergence Divergence (MACD)."
      ],
      "metadata": {
        "id": "5MVzZGGEZ-lk"
      }
    },
    {
      "cell_type": "markdown",
      "source": [
        "## **MODEL TRAINING PROCESS**"
      ],
      "metadata": {
        "id": "bE1J0fdZaUGc"
      }
    },
    {
      "cell_type": "markdown",
      "source": [
        "**Scaling Data:**\n",
        "\n",
        "* Applied Min-Max scaling to normalize the features.\n",
        "\n",
        "**Sequence Generation:**\n",
        "\n",
        "* Created sequences of data for input to the model with a specified sequence length.\n",
        "\n",
        "**Train-Test Split:**\n",
        "\n",
        "* Split the data into training and testing sets (80% training, 20% testing).\n",
        "\n",
        "**Model Architecture:**\n",
        "\n",
        "* Designed a CNN-LSTM model with Conv1D, LSTM, and Dense layers.\n",
        "\n",
        "**Model Compilation and Training:**\n",
        "\n",
        "* Compiled the model with Adam optimizer and mean squared error loss function.\n",
        "* Trained the model with 50 epochs and batch size of 64."
      ],
      "metadata": {
        "id": "TDhsu7e6aYcq"
      }
    },
    {
      "cell_type": "markdown",
      "source": [
        "## **MODEL EVALUATION**"
      ],
      "metadata": {
        "id": "IBEwp_bUasES"
      }
    },
    {
      "cell_type": "markdown",
      "source": [
        "**Prediction and Inverse Scaling:**\n",
        "\n",
        "* Made predictions on the test set and applied inverse scaling to obtain real-world stock prices.\n",
        "\n",
        "**Performance Metrics:**\n",
        "\n",
        "* Calculated Mean Absolute Error (MAE) and Root Mean Squared Error (RMSE) to quantify model performance."
      ],
      "metadata": {
        "id": "kMa3YLpOhcHY"
      }
    },
    {
      "cell_type": "markdown",
      "source": [
        "## **KEY FINDINGS AND INSIGHTS**"
      ],
      "metadata": {
        "id": "BRm5O1D2hjFn"
      }
    },
    {
      "cell_type": "markdown",
      "source": [
        "* The CNN-LSTM model demonstrates promising performance in predicting stock prices for Microsoft (MSFT).\n",
        "* The inclusion of technical indicators like RSI and MACD contributes to the model's accuracy.\n",
        "* The model is particularly effective in capturing short to medium-term trends."
      ],
      "metadata": {
        "id": "hVf9qBY4hotB"
      }
    },
    {
      "cell_type": "markdown",
      "source": [
        "## **RECOMMENDATIONS**"
      ],
      "metadata": {
        "id": "dXDlq_sKhu-w"
      }
    },
    {
      "cell_type": "markdown",
      "source": [
        "* Further fine-tuning of hyperparameters and exploration of alternative architectures may lead to improved performance.\n",
        "* Consider incorporating additional features or external factors that could influence stock prices.\n",
        "* Conduct thorough backtesting and validate the model's predictions against a wider range of historical data."
      ],
      "metadata": {
        "id": "sYD0muCyh6Yz"
      }
    },
    {
      "cell_type": "markdown",
      "source": [
        "## **CODE**"
      ],
      "metadata": {
        "id": "3yivAR_bmK2T"
      }
    },
    {
      "cell_type": "code",
      "source": [
        "import pandas as pd\n",
        "import numpy as np\n",
        "import matplotlib.pyplot as plt\n",
        "from sklearn.preprocessing import MinMaxScaler\n",
        "from sklearn.metrics import mean_absolute_error, mean_squared_error\n",
        "from tensorflow.keras.models import Sequential\n",
        "from tensorflow.keras.layers import LSTM, Dense, Input, Conv1D\n",
        "from tensorflow.keras.layers import Conv2D\n",
        "\n",
        "\n",
        "#ADDING TECHNICAL INDICATORS\n",
        "\n",
        "# Define a function to calculate technical indicators\n",
        "def add_technical_indicators(data):\n",
        "    # Moving Average (MA)\n",
        "    data['MA_50'] = data['Close'].rolling(window=50).mean()\n",
        "    data['MA_200'] = data['Close'].rolling(window=200).mean()\n",
        "\n",
        "    # Relative Strength Index (RSI)\n",
        "    delta = data['Close'].diff(1)\n",
        "    gain = (delta.where(delta > 0, 0)).fillna(0)\n",
        "    loss = (-delta.where(delta < 0, 0)).fillna(0)\n",
        "    avg_gain = gain.rolling(window=14).mean()\n",
        "    avg_loss = loss.rolling(window=14).mean()\n",
        "    rs = avg_gain / avg_loss\n",
        "    data['RSI'] = 100 - (100 / (1 + rs))\n",
        "\n",
        "    # Moving Average Convergence Divergence (MACD)\n",
        "    data['Short_MA'] = data['Close'].rolling(window=12).mean()\n",
        "    data['Long_MA'] = data['Close'].rolling(window=26).mean()\n",
        "    data['MACD'] = data['Short_MA'] - data['Long_MA']\n",
        "\n",
        "    return data.dropna()\n",
        "\n",
        "\n",
        "\n",
        "#DATA COLLECTION\n",
        "\n",
        "data = pd.read_csv('/content/MSFT.csv')\n",
        "data['Date'] = pd.to_datetime(data['Date'])\n",
        "data.set_index('Date', inplace=True)\n",
        "\n",
        "data.info()\n",
        "data.shape\n",
        "data.fillna(method='ffill', inplace=True)\n",
        "\n",
        "\n",
        "\n",
        "#DEFINE CNN-LSTM MODEL\n",
        "\n",
        "# Apply feature engineering\n",
        "data = add_technical_indicators(data)\n",
        "\n",
        "scaler = MinMaxScaler()\n",
        "scaled_data = scaler.fit_transform(data)\n",
        "\n",
        "sequence_length = 14\n",
        "X, y = [], []\n",
        "for i in range(sequence_length, len(scaled_data)):\n",
        "    X.append(scaled_data[i - sequence_length:i])\n",
        "    y.append(scaled_data[i, 3])  # Using 'close price' as the target\n",
        "\n",
        "X, y = np.array(X), np.array(y)\n",
        "\n",
        "train_size = int(0.8 * len(X))\n",
        "X_train, X_test, y_train, y_test = X[:train_size], X[train_size:], y[:train_size], y[train_size:]\n",
        "\n",
        "X_train = X_train.reshape((X_train.shape[0], X_train.shape[1], X_train.shape[2]))\n",
        "X_test = X_test.reshape((X_test.shape[0], X_test.shape[1], X_test.shape[2]))\n",
        "\n",
        "model_cnn_lstm = Sequential()\n",
        "model_cnn_lstm.add(Conv1D(filters=64, kernel_size=3, activation='relu', input_shape=(X_train.shape[1], X_train.shape[2])))\n",
        "model_cnn_lstm.add(LSTM(200, return_sequences=True))\n",
        "model_cnn_lstm.add(LSTM(200))\n",
        "model_cnn_lstm.add(Dense(1))\n",
        "model_cnn_lstm.compile(optimizer='adam', loss='mean_squared_error')\n",
        "\n",
        "\n",
        "\n",
        "#MODEL TRAINING AND PREDICTION\n",
        "\n",
        "model_cnn_lstm.fit(X_train, y_train, batch_size=64, epochs=50, verbose=1)\n",
        "\n",
        "y_pred_cnn_lstm = model_cnn_lstm.predict(X_test)\n",
        "\n",
        "\n",
        "\n",
        "#MODEL EVALUATION\n",
        "\n",
        "y_pred_cnn_lstm = scaler.inverse_transform(np.hstack((np.zeros((len(y_pred_cnn_lstm), scaled_data.shape[1] - 1)), y_pred_cnn_lstm)))\n",
        "y_test = scaler.inverse_transform(np.hstack((np.zeros((len(y_test), scaled_data.shape[1] - 1)), np.expand_dims(y_test, axis=1))))\n",
        "\n",
        "y_pred_close_cnn_lstm = y_pred_cnn_lstm[:, -1]\n",
        "y_test_close = y_test[:, -1]\n",
        "\n",
        "mae_cnn_lstm = mean_absolute_error(y_test_close, y_pred_close_cnn_lstm)\n",
        "rmse_cnn_lstm = np.sqrt(mean_squared_error(y_test_close, y_pred_close_cnn_lstm))\n",
        "\n",
        "print(f\"CNN-LSTM Model:\")\n",
        "print(f\"Mean Absolute Error: {mae_cnn_lstm}\")\n",
        "print(f\"Root Mean Squared Error: {rmse_cnn_lstm}\")\n",
        "\n",
        "\n",
        "\n",
        "#VISUALIZATION\n",
        "\n",
        "plt.figure(figsize=(12, 6))\n",
        "plt.plot(data.index[-len(y_test):], y_test_close, label='True Close Price', color='blue')\n",
        "plt.plot(data.index[-len(y_test):], y_pred_close_cnn_lstm, label='Predicted Close Price (CNN-LSTM)', color='red')\n",
        "plt.xlabel('Date')\n",
        "plt.ylabel('Close Price')\n",
        "plt.title('Stock Price Prediction using CNN-LSTM')\n",
        "plt.legend()\n",
        "plt.show()"
      ],
      "metadata": {
        "id": "de7SdpogmNlz"
      },
      "execution_count": null,
      "outputs": []
    }
  ]
}