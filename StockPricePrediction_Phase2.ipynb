{
  "nbformat": 4,
  "nbformat_minor": 0,
  "metadata": {
    "colab": {
      "provenance": []
    },
    "kernelspec": {
      "name": "python3",
      "display_name": "Python 3"
    },
    "language_info": {
      "name": "python"
    }
  },
  "cells": [
    {
      "cell_type": "markdown",
      "source": [
        "## DATA COLLECTION"
      ],
      "metadata": {
        "id": "zHRsQI0fAvGx"
      }
    },
    {
      "cell_type": "code",
      "source": [
        "import pandas as pd\n",
        "import numpy as np\n",
        "import matplotlib.pyplot as plt\n",
        "from sklearn.preprocessing import MinMaxScaler\n",
        "from sklearn.metrics import mean_absolute_error, mean_squared_error\n",
        "from tensorflow.keras.models import Sequential, Model\n",
        "from tensorflow.keras.layers import LSTM, Dense, Input, Conv1D, Flatten, RepeatVector, Permute, Multiply\n",
        "from tensorflow.keras.layers import Conv2D\n",
        "\n",
        "\n",
        "data = pd.read_csv('/content/MSFT.csv')\n",
        "data['Date'] = pd.to_datetime(data['Date'])\n",
        "data.set_index('Date', inplace=True)"
      ],
      "metadata": {
        "id": "4qzjBTvzA84D"
      },
      "execution_count": 22,
      "outputs": []
    },
    {
      "cell_type": "code",
      "source": [
        "data.info()"
      ],
      "metadata": {
        "colab": {
          "base_uri": "https://localhost:8080/"
        },
        "id": "etU3zhtUA_ph",
        "outputId": "57ac8028-5e30-460f-ca2c-d0eba4b52a2c"
      },
      "execution_count": 23,
      "outputs": [
        {
          "output_type": "stream",
          "name": "stdout",
          "text": [
            "<class 'pandas.core.frame.DataFrame'>\n",
            "DatetimeIndex: 8525 entries, 1986-03-13 to 2020-01-07\n",
            "Data columns (total 6 columns):\n",
            " #   Column     Non-Null Count  Dtype  \n",
            "---  ------     --------------  -----  \n",
            " 0   Open       8525 non-null   float64\n",
            " 1   High       8525 non-null   float64\n",
            " 2   Low        8525 non-null   float64\n",
            " 3   Close      8525 non-null   float64\n",
            " 4   Adj Close  8525 non-null   float64\n",
            " 5   Volume     8525 non-null   int64  \n",
            "dtypes: float64(5), int64(1)\n",
            "memory usage: 466.2 KB\n"
          ]
        }
      ]
    },
    {
      "cell_type": "code",
      "source": [
        "data.shape"
      ],
      "metadata": {
        "colab": {
          "base_uri": "https://localhost:8080/"
        },
        "id": "2sbSUC91BNLi",
        "outputId": "61d32856-da86-4499-a80a-84aad3877eee"
      },
      "execution_count": 24,
      "outputs": [
        {
          "output_type": "execute_result",
          "data": {
            "text/plain": [
              "(8525, 6)"
            ]
          },
          "metadata": {},
          "execution_count": 24
        }
      ]
    },
    {
      "cell_type": "markdown",
      "source": [
        "## DATA PREPROCESSING"
      ],
      "metadata": {
        "id": "S7L4cVt8BRMO"
      }
    },
    {
      "cell_type": "code",
      "source": [
        "data.fillna(method='ffill', inplace=True)\n",
        "\n",
        "scaler = MinMaxScaler()\n",
        "scaled_data = scaler.fit_transform(data)\n",
        "\n",
        "sequence_length = 14\n",
        "X, y = [], []\n",
        "for i in range(sequence_length, len(scaled_data)):\n",
        "    X.append(scaled_data[i - sequence_length:i])\n",
        "    y.append(scaled_data[i, 3])  # Using 'close price' as the target\n",
        "\n",
        "X, y = np.array(X), np.array(y)\n",
        "\n",
        "train_size = int(0.8 * len(X))\n",
        "X_train, X_test, y_train, y_test = X[:train_size], X[train_size:], y[:train_size], y[train_size:]"
      ],
      "metadata": {
        "id": "-ym9j-YOBVUQ"
      },
      "execution_count": 25,
      "outputs": []
    },
    {
      "cell_type": "markdown",
      "source": [
        "## RESHAPE FOR CNN-LSTM"
      ],
      "metadata": {
        "id": "LPKZkzY9DXLx"
      }
    },
    {
      "cell_type": "code",
      "source": [
        "X_train = X_train.reshape((X_train.shape[0], X_train.shape[1], X_train.shape[2]))\n",
        "X_test = X_test.reshape((X_test.shape[0], X_test.shape[1], X_test.shape[2]))"
      ],
      "metadata": {
        "id": "XTrbH5X7Darv"
      },
      "execution_count": 26,
      "outputs": []
    },
    {
      "cell_type": "markdown",
      "source": [
        "## DEFINE CNN-LSTM MODEL"
      ],
      "metadata": {
        "id": "YUCGS6s-Brmp"
      }
    },
    {
      "cell_type": "code",
      "source": [
        "model_cnn_lstm = Sequential()\n",
        "model_cnn_lstm.add(Conv1D(filters=64, kernel_size=3, activation='relu', input_shape=(X_train.shape[1], X_train.shape[2])))\n",
        "model_cnn_lstm.add(LSTM(200, return_sequences=True))\n",
        "model_cnn_lstm.add(LSTM(200))\n",
        "model_cnn_lstm.add(Dense(1))\n",
        "model_cnn_lstm.compile(optimizer='adam', loss='mean_squared_error')\n",
        "\n"
      ],
      "metadata": {
        "id": "3kGHiA6GBujW"
      },
      "execution_count": 27,
      "outputs": []
    },
    {
      "cell_type": "markdown",
      "source": [
        "## TRAINING THE MODEL"
      ],
      "metadata": {
        "id": "9WrZ4AtMByKE"
      }
    },
    {
      "cell_type": "code",
      "source": [
        "model_cnn_lstm.fit(X_train, y_train, batch_size=64, epochs=50, verbose=1)"
      ],
      "metadata": {
        "colab": {
          "base_uri": "https://localhost:8080/"
        },
        "id": "WXRZVtn-B2Sm",
        "outputId": "0a9482a0-45c8-4a8e-cf82-4d2ee7d3d9c9"
      },
      "execution_count": 28,
      "outputs": [
        {
          "output_type": "stream",
          "name": "stdout",
          "text": [
            "Epoch 1/50\n",
            "107/107 [==============================] - 14s 88ms/step - loss: 4.8040e-04\n",
            "Epoch 2/50\n",
            "107/107 [==============================] - 9s 87ms/step - loss: 4.3843e-05\n",
            "Epoch 3/50\n",
            "107/107 [==============================] - 8s 77ms/step - loss: 4.2548e-05\n",
            "Epoch 4/50\n",
            "107/107 [==============================] - 9s 88ms/step - loss: 4.3705e-05\n",
            "Epoch 5/50\n",
            "107/107 [==============================] - 9s 88ms/step - loss: 3.9701e-05\n",
            "Epoch 6/50\n",
            "107/107 [==============================] - 9s 88ms/step - loss: 3.9228e-05\n",
            "Epoch 7/50\n",
            "107/107 [==============================] - 8s 78ms/step - loss: 3.4546e-05\n",
            "Epoch 8/50\n",
            "107/107 [==============================] - 9s 87ms/step - loss: 3.1445e-05\n",
            "Epoch 9/50\n",
            "107/107 [==============================] - 9s 88ms/step - loss: 2.8228e-05\n",
            "Epoch 10/50\n",
            "107/107 [==============================] - 8s 79ms/step - loss: 2.6979e-05\n",
            "Epoch 11/50\n",
            "107/107 [==============================] - 9s 86ms/step - loss: 2.3294e-05\n",
            "Epoch 12/50\n",
            "107/107 [==============================] - 9s 88ms/step - loss: 2.2591e-05\n",
            "Epoch 13/50\n",
            "107/107 [==============================] - 9s 88ms/step - loss: 2.6511e-05\n",
            "Epoch 14/50\n",
            "107/107 [==============================] - 8s 78ms/step - loss: 2.4681e-05\n",
            "Epoch 15/50\n",
            "107/107 [==============================] - 9s 89ms/step - loss: 1.8692e-05\n",
            "Epoch 16/50\n",
            "107/107 [==============================] - 9s 88ms/step - loss: 1.7294e-05\n",
            "Epoch 17/50\n",
            "107/107 [==============================] - 9s 81ms/step - loss: 1.8633e-05\n",
            "Epoch 18/50\n",
            "107/107 [==============================] - 9s 85ms/step - loss: 2.0075e-05\n",
            "Epoch 19/50\n",
            "107/107 [==============================] - 9s 88ms/step - loss: 1.6336e-05\n",
            "Epoch 20/50\n",
            "107/107 [==============================] - 9s 87ms/step - loss: 1.7924e-05\n",
            "Epoch 21/50\n",
            "107/107 [==============================] - 8s 78ms/step - loss: 1.8957e-05\n",
            "Epoch 22/50\n",
            "107/107 [==============================] - 9s 88ms/step - loss: 1.6059e-05\n",
            "Epoch 23/50\n",
            "107/107 [==============================] - 9s 88ms/step - loss: 1.7105e-05\n",
            "Epoch 24/50\n",
            "107/107 [==============================] - 9s 83ms/step - loss: 1.5497e-05\n",
            "Epoch 25/50\n",
            "107/107 [==============================] - 9s 84ms/step - loss: 1.9949e-05\n",
            "Epoch 26/50\n",
            "107/107 [==============================] - 9s 88ms/step - loss: 1.7624e-05\n",
            "Epoch 27/50\n",
            "107/107 [==============================] - 9s 88ms/step - loss: 1.6273e-05\n",
            "Epoch 28/50\n",
            "107/107 [==============================] - 10s 89ms/step - loss: 1.6281e-05\n",
            "Epoch 29/50\n",
            "107/107 [==============================] - 9s 87ms/step - loss: 1.6081e-05\n",
            "Epoch 30/50\n",
            "107/107 [==============================] - 9s 88ms/step - loss: 1.2841e-05\n",
            "Epoch 31/50\n",
            "107/107 [==============================] - 9s 88ms/step - loss: 1.3760e-05\n",
            "Epoch 32/50\n",
            "107/107 [==============================] - 8s 77ms/step - loss: 1.3473e-05\n",
            "Epoch 33/50\n",
            "107/107 [==============================] - 9s 87ms/step - loss: 1.3696e-05\n",
            "Epoch 34/50\n",
            "107/107 [==============================] - 9s 87ms/step - loss: 1.2423e-05\n",
            "Epoch 35/50\n",
            "107/107 [==============================] - 8s 79ms/step - loss: 1.2958e-05\n",
            "Epoch 36/50\n",
            "107/107 [==============================] - 9s 87ms/step - loss: 1.2643e-05\n",
            "Epoch 37/50\n",
            "107/107 [==============================] - 9s 89ms/step - loss: 1.2046e-05\n",
            "Epoch 38/50\n",
            "107/107 [==============================] - 9s 88ms/step - loss: 1.3055e-05\n",
            "Epoch 39/50\n",
            "107/107 [==============================] - 8s 79ms/step - loss: 1.3549e-05\n",
            "Epoch 40/50\n",
            "107/107 [==============================] - 9s 89ms/step - loss: 1.7688e-05\n",
            "Epoch 41/50\n",
            "107/107 [==============================] - 9s 88ms/step - loss: 1.4358e-05\n",
            "Epoch 42/50\n",
            "107/107 [==============================] - 9s 82ms/step - loss: 1.5367e-05\n",
            "Epoch 43/50\n",
            "107/107 [==============================] - 9s 84ms/step - loss: 1.1795e-05\n",
            "Epoch 44/50\n",
            "107/107 [==============================] - 9s 89ms/step - loss: 1.1820e-05\n",
            "Epoch 45/50\n",
            "107/107 [==============================] - 9s 88ms/step - loss: 1.4183e-05\n",
            "Epoch 46/50\n",
            "107/107 [==============================] - 8s 78ms/step - loss: 1.2815e-05\n",
            "Epoch 47/50\n",
            "107/107 [==============================] - 9s 88ms/step - loss: 1.2340e-05\n",
            "Epoch 48/50\n",
            "107/107 [==============================] - 9s 88ms/step - loss: 1.3369e-05\n",
            "Epoch 49/50\n",
            "107/107 [==============================] - 9s 84ms/step - loss: 1.2920e-05\n",
            "Epoch 50/50\n",
            "107/107 [==============================] - 9s 84ms/step - loss: 1.3497e-05\n"
          ]
        },
        {
          "output_type": "execute_result",
          "data": {
            "text/plain": [
              "<keras.src.callbacks.History at 0x794f4be8c0a0>"
            ]
          },
          "metadata": {},
          "execution_count": 28
        }
      ]
    },
    {
      "cell_type": "markdown",
      "source": [
        "## PREDICT USING THE MODEL"
      ],
      "metadata": {
        "id": "uyHs8IV-B7SB"
      }
    },
    {
      "cell_type": "code",
      "source": [
        "y_pred_cnn_lstm = model_cnn_lstm.predict(X_test)\n"
      ],
      "metadata": {
        "colab": {
          "base_uri": "https://localhost:8080/"
        },
        "id": "SodmmyCyB-Yb",
        "outputId": "2de3412a-7917-4e91-bb8a-0742bd72968b"
      },
      "execution_count": 29,
      "outputs": [
        {
          "output_type": "stream",
          "name": "stdout",
          "text": [
            "54/54 [==============================] - 2s 19ms/step\n"
          ]
        }
      ]
    },
    {
      "cell_type": "markdown",
      "source": [
        "## POST-PROCESSING AND EVALUATION"
      ],
      "metadata": {
        "id": "gP38cMWSCA7G"
      }
    },
    {
      "cell_type": "code",
      "source": [
        "y_pred_cnn_lstm = scaler.inverse_transform(np.hstack((np.zeros((len(y_pred_cnn_lstm), scaled_data.shape[1] - 1)), y_pred_cnn_lstm)))\n",
        "y_test = scaler.inverse_transform(np.hstack((np.zeros((len(y_test), scaled_data.shape[1] - 1)), np.expand_dims(y_test, axis=1))))\n",
        "\n",
        "y_pred_close_cnn_lstm = y_pred_cnn_lstm[:, -1]\n",
        "y_test_close = y_test[:, -1]\n",
        "\n",
        "mae_cnn_lstm = mean_absolute_error(y_test_close, y_pred_close_cnn_lstm)\n",
        "rmse_cnn_lstm = np.sqrt(mean_squared_error(y_test_close, y_pred_close_cnn_lstm))\n",
        "\n",
        "print(f\"CNN-LSTM Model:\")\n",
        "print(f\"Mean Absolute Error: {mae_cnn_lstm}\")\n",
        "print(f\"Root Mean Squared Error: {rmse_cnn_lstm}\")"
      ],
      "metadata": {
        "colab": {
          "base_uri": "https://localhost:8080/"
        },
        "id": "Fn-_e-bQCInG",
        "outputId": "c1300e7a-d8d5-4bce-fd91-f81f051c5abf"
      },
      "execution_count": 30,
      "outputs": [
        {
          "output_type": "stream",
          "name": "stdout",
          "text": [
            "CNN-LSTM Model:\n",
            "Mean Absolute Error: 5198198.591266382\n",
            "Root Mean Squared Error: 8002484.221043954\n"
          ]
        }
      ]
    },
    {
      "cell_type": "markdown",
      "source": [
        "## VISUALIZATION"
      ],
      "metadata": {
        "id": "7xNOnOZWCMWA"
      }
    },
    {
      "cell_type": "code",
      "source": [
        "plt.figure(figsize=(12, 6))\n",
        "plt.plot(data.index[-len(y_test):], y_test_close, label='True Close Price', color='blue')\n",
        "plt.plot(data.index[-len(y_test):], y_pred_close_cnn_lstm, label='Predicted Close Price (CNN-LSTM)', color='red')\n",
        "plt.xlabel('Date')\n",
        "plt.ylabel('Close Price')\n",
        "plt.title('Stock Price Prediction using CNN-LSTM')\n",
        "plt.legend()\n",
        "plt.show()"
      ],
      "metadata": {
        "colab": {
          "base_uri": "https://localhost:8080/",
          "height": 564
        },
        "id": "i0Z6T5-FCSFh",
        "outputId": "520df7e0-d444-4777-c8ce-4edbf35b4cbb"
      },
      "execution_count": 31,
      "outputs": [
        {
          "output_type": "display_data",
          "data": {
            "text/plain": [
              "<Figure size 1200x600 with 1 Axes>"
            ],
            "image/png": "[encoded data removed]"
          },
          "metadata": {}
        }
      ]
    }
  ]
}